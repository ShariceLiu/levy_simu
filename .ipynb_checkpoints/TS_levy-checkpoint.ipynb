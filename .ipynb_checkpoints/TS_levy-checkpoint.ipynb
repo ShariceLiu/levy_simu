{
 "cells": [
  {
   "cell_type": "markdown",
   "metadata": {},
   "source": [
    "# Langevin\n",
    "First we do simulations for tracking models, starting with Langevin model, where we have\n",
    "$a_j = \\begin{bmatrix} 0 & 1 \\\\ 0 & -\\lambda \\end{bmatrix}$ and\n",
    "$h_j = \\begin{bmatrix} 0 \\\\ 1 \\end{bmatrix}$\n",
    "\n",
    "Because there is no $B$ terms, $M(\\Delta t) = 0$. To calculate the mean and variance, we start with the result\n",
    "\n",
    "$\\text{exp}(\\begin{bmatrix} 0 & 1 \\\\ 0 & -\\lambda \\end{bmatrix} t) = \n",
    "\\begin{bmatrix} 1 & -\\frac{1}{\\lambda}(e^{-t \\lambda}-1) \\\\\n",
    "0 & e^{-t \\lambda} \\end{bmatrix}$\n",
    "\n",
    "After calculation we get\n",
    "\n",
    "$q_i = \\begin{bmatrix} 0 & \\frac{1}{2 \\lambda^2}+\\frac{1}{2 \\lambda^2} e^{-2 \\Delta t \\lambda}+\\frac{1}{\\lambda^2}(1-e^{-\\Delta t \\lambda}) \\\\\n",
    "0 & \\frac{1}{2 \\lambda} (1-e^{-2 \\Delta t \\lambda}) \\end{bmatrix}$\n",
    "\n",
    "$f_i(\\Delta t, V_i) = \\begin{bmatrix} -\\frac{1}{\\lambda} e^{(V_i-\\Delta t)\\lambda}+\\frac{1}{\\lambda} \\\\\n",
    "e^{(V_i-\\Delta t)\\lambda} \\end{bmatrix}$\n",
    "\n",
    "$\\int_0^{\\Delta t} f(\\Delta t, u) du = \\begin{bmatrix} -\\frac{1}{\\lambda^2} (1-e^{-\\Delta t \\lambda})+\\frac{\\Delta t}{\\lambda} \\\\\n",
    "\\frac{1}{\\lambda}(1-e^{-\\Delta t \\lambda}) \\end{bmatrix}$"
   ]
  },
  {
   "cell_type": "code",
   "execution_count": 1,
   "metadata": {},
   "outputs": [
    {
     "name": "stderr",
     "output_type": "stream",
     "text": [
      "C:\\Users\\surface\\Anaconda3\\lib\\site-packages\\numpy\\_distributor_init.py:32: UserWarning: loaded more than 1 DLL from .libs:\n",
      "C:\\Users\\surface\\Anaconda3\\lib\\site-packages\\numpy\\.libs\\libopenblas.TXA6YQSD3GCQQC22GEQ54J2UDCXDXHWN.gfortran-win_amd64.dll\n",
      "C:\\Users\\surface\\Anaconda3\\lib\\site-packages\\numpy\\.libs\\libopenblas.XWYDX2IKJW2NMTWSFYNGFUWKQU3LYTCZ.gfortran-win_amd64.dll\n",
      "  stacklevel=1)\n"
     ]
    }
   ],
   "source": [
    "import numpy as np\n",
    "import matplotlib.pyplot as plt\n",
    "import scipy.special as sf\n",
    "from scipy import stats"
   ]
  },
  {
   "cell_type": "code",
   "execution_count": 13,
   "metadata": {},
   "outputs": [],
   "source": [
    "l = 1\n",
    "# c = 20\n",
    "N = 100\n",
    "delta_t = 1\n",
    "sigma_w = 0.2\n",
    "mu_w = 0.01\n",
    "alpha = 0.6\n",
    "\n",
    "# convert variables\n",
    "C = alpha*2**alpha/(sf.gamma(1-alpha))\n",
    "r = 1.35 # from generalised shot noise paper\n",
    "episilon = 1e-3\n",
    "c = C*episilon**(-alpha)/alpha/delta_t\n",
    "beta = 0.5*r**(1/alpha)\n",
    "\n",
    "# calculate first/second moment of residuals\n",
    "M_z1 = 2**(1-alpha)*r**(1-1/alpha)*C*sf.gamma(1-alpha)*sf.gammainc(1-alpha, 0.5*r**(1/alpha)*episilon)\n",
    "M_z2 = C*sf.gamma(2-alpha)*2**(2-alpha)*r**(1-2/alpha)*sf.gammainc(2-alpha, 0.5*r**(1/alpha)*episilon)"
   ]
  },
  {
   "cell_type": "code",
   "execution_count": 14,
   "metadata": {},
   "outputs": [
    {
     "name": "stdout",
     "output_type": "stream",
     "text": [
      "0.06465679618051282 1.846883766134736e-05 43.11468498654165\n"
     ]
    }
   ],
   "source": [
    "print(M_z1, M_z2, c)"
   ]
  },
  {
   "cell_type": "code",
   "execution_count": 4,
   "metadata": {},
   "outputs": [],
   "source": [
    "# function to generate tempered stable process jumps\n",
    "def TS_subordinator_jumps(delta_t):\n",
    "    gamma = 0\n",
    "    sum_n = 0\n",
    "    mean_n = 0\n",
    "    while gamma<c*delta_t:\n",
    "        delta_gamma = np.random.exponential(scale = 1.0)\n",
    "        gamma = gamma+delta_gamma\n",
    "         \n",
    "        while True:\n",
    "            z_i = (alpha*gamma/C)**(-1/alpha)\n",
    "            p_xi = np.exp(-beta*z_i) # accept with probability, because it's tempered\n",
    "            u_i = np.random.uniform()\n",
    "            if u_i>p_xi:\n",
    "                break\n",
    "        \n",
    "        v_i = np.random.uniform(0,delta_t)\n",
    "\n",
    "        f1 = -np.exp(-l*(delta_t-v_i))/l+1/l\n",
    "        f2 = np.exp(-(delta_t-v_i)*l)\n",
    "        f_delta_t_v_i = np.matrix([[f1,0],[f2,0],[0,f1],[0,f2]])\n",
    "\n",
    "        sum_i = np.matmul(f_delta_t_v_i,f_delta_t_v_i.T)\n",
    "        sum_n+=sum_i\n",
    "        \n",
    "        mean_n += z_i * np.matrix([[f1],[f2],[f1],[f2]])\n",
    "    \n",
    "    sum_n *= sigma_w**2\n",
    "    mean_n *= mu_w\n",
    "    \n",
    "    return mean_n, sum_n"
   ]
  },
  {
   "cell_type": "code",
   "execution_count": 5,
   "metadata": {},
   "outputs": [],
   "source": [
    "def langevin_simu(delta_t):\n",
    "    x_ns = np.zeros((N, 4))\n",
    "    t_ns = np.zeros(N)\n",
    "    x = np.matrix([0,0,0,0]).T # vertical matrix\n",
    "    \n",
    "    for n in range(N): # each time step\n",
    "        mean_Z, var_Z = TS_subordinator_jumps(delta_t)\n",
    "\n",
    "        q12 = -1/(2*l**2)*(1-np.exp(-2*delta_t*l))+(1-np.exp(-delta_t*l))/l**2\n",
    "        q22 = (1-np.exp(-2*delta_t*l))/(2*l)\n",
    "        Q_delta_t = np.matrix([[0,q12,0,0],[0,q22,0,0],[0,0,0,q12],[0,0,0,q22]])\n",
    "        S_delta_t = var_Z + (mu_w**2*M_z2+sigma_w**2*M_z1)*Q_delta_t\n",
    "\n",
    "        m12 = -(np.exp(-delta_t*l)-1)/l\n",
    "        m22 = np.exp(-delta_t*l)\n",
    "        m_delta_t = np.matmul(np.matrix([[1,m12,0,0],[0,m22,0,0],[0,0,1,m12],[0,0,0,m22]]),x)\n",
    "        \n",
    "        m1 = -(1-np.exp(-delta_t*l))/l**2+delta_t/l\n",
    "        m2 = (1-np.exp(-delta_t*l))/l\n",
    "#         import pdb;pdb.set_trace()\n",
    "        m_delta_t = m_delta_t+ np.matrix([m1, m2, m1, m2])*mu_w*M_z1 + mean_Z\n",
    "\n",
    "        x = np.random.multivariate_normal(np.array(m_delta_t.T)[0], S_delta_t.T) # horizontal array\n",
    "\n",
    "        x_ns[n,:]=x\n",
    "        x = np.matrix(x).T # transform x to be a vertical matrix\n",
    "        t_ns[n]=n*delta_t\n",
    "        \n",
    "    return x_ns, t_ns"
   ]
  },
  {
   "cell_type": "code",
   "execution_count": 15,
   "metadata": {},
   "outputs": [
    {
     "name": "stderr",
     "output_type": "stream",
     "text": [
      "C:\\Users\\surface\\Anaconda3\\lib\\site-packages\\ipykernel_launcher.py:23: RuntimeWarning: covariance is not positive-semidefinite.\n"
     ]
    },
    {
     "data": {
      "text/plain": [
       "[<matplotlib.lines.Line2D at 0x1cb1a413f48>]"
      ]
     },
     "execution_count": 15,
     "metadata": {},
     "output_type": "execute_result"
    },
    {
     "data": {
      "image/png": "[encoded data removed]",
      "text/plain": [
       "<Figure size 432x288 with 1 Axes>"
      ]
     },
     "metadata": {
      "needs_background": "light"
     },
     "output_type": "display_data"
    }
   ],
   "source": [
    "x_ns, t_ns = langevin_simu(delta_t)\n",
    "plt.plot(x_ns[:,0], x_ns[:,2])"
   ]
  },
  {
   "cell_type": "code",
   "execution_count": 16,
   "metadata": {},
   "outputs": [
    {
     "data": {
      "text/plain": [
       "[<matplotlib.lines.Line2D at 0x1cb1a4885c8>]"
      ]
     },
     "execution_count": 16,
     "metadata": {},
     "output_type": "execute_result"
    },
    {
     "data": {
      "image/png": "[encoded data removed]",
      "text/plain": [
       "<Figure size 432x288 with 1 Axes>"
      ]
     },
     "metadata": {
      "needs_background": "light"
     },
     "output_type": "display_data"
    }
   ],
   "source": [
    "plt.plot(x_ns[:,1], x_ns[:,3])"
   ]
  },
  {
   "cell_type": "code",
   "execution_count": 12,
   "metadata": {},
   "outputs": [
    {
     "data": {
      "text/plain": [
       "[<matplotlib.lines.Line2D at 0x1cb193cf4c8>]"
      ]
     },
     "execution_count": 12,
     "metadata": {},
     "output_type": "execute_result"
    },
    {
     "data": {
      "image/png": "[encoded data removed]",
      "text/plain": [
       "<Figure size 432x288 with 1 Axes>"
      ]
     },
     "metadata": {
      "needs_background": "light"
     },
     "output_type": "display_data"
    },
    {
     "data": {
      "image/png": "[encoded data removed]",
      "text/plain": [
       "<Figure size 432x288 with 1 Axes>"
      ]
     },
     "metadata": {
      "needs_background": "light"
     },
     "output_type": "display_data"
    }
   ],
   "source": [
    "noise_sig = 0.1\n",
    "noise = np.random.normal(0, noise_sig, (N, 4))\n",
    "y_ns = x_ns+noise # noisy data\n",
    "plt.figure()\n",
    "plt.plot(y_ns[:,0], y_ns[:,2])\n",
    "plt.figure()\n",
    "plt.plot(y_ns[:,1], y_ns[:,3])"
   ]
  },
  {
   "cell_type": "code",
   "execution_count": 9,
   "metadata": {},
   "outputs": [],
   "source": [
    "def single_ite_particle_filtering(y_n, log_weight_p, mu_p, P_p, delta_t, resample = False):\n",
    "    # mu_p = [mu1, mu2, .. muP], P_p = [P1, P2, .. PP]\n",
    "    num_particles = len(mu_p) # list of list of lists, because length if each particle is not fixed, P*n*I\n",
    "    if resample:\n",
    "        indices = np.random.choice(list(range(num_particles)), size = num_particles, p = np.exp(log_weight_p))\n",
    "        mu_p = [mu_p[i] for i in indices]\n",
    "        P_p = [P_p[i] for i in indices]\n",
    "        \n",
    "        log_weight_p = np.log(np.ones(num_particles)*(1/num_particles))\n",
    "    \n",
    "    m12 = -(np.exp(-delta_t*l)-1)/l\n",
    "    m22 = np.exp(-delta_t*l)\n",
    "    F_delta_t = np.matrix([[1,m12,0,0],[0,m22,0,0],[0,0,1,m12],[0,0,0,m22]])\n",
    "    \n",
    "    mu_p_nextn = []\n",
    "    P_p_nextn = []\n",
    "    log_weights_p_nextn = np.zeros(num_particles)\n",
    "    for p in range(num_particles):\n",
    "#         print(p)\n",
    "        mean_Z, var_Z = TS_subordinator_jumps(delta_t) # generate jump mean and variance\n",
    "    \n",
    "        q12 = -1/(2*l**2)*(1-np.exp(-2*delta_t*l))+(1-np.exp(-delta_t*l))/l**2\n",
    "        q22 = (1-np.exp(-2*delta_t*l))/(2*l)\n",
    "        Q_delta_t = np.matrix([[0,q12,0,0],[0,q22,0,0],[0,0,0,q12],[0,0,0,q22]])\n",
    "        S_delta_t = var_Z + (mu_w**2*M_z2+sigma_w**2*M_z1)*Q_delta_t\n",
    "\n",
    "        m12 = -(np.exp(-delta_t*l)-1)/l\n",
    "        m22 = np.exp(-delta_t*l)\n",
    "        m_delta_t = np.matmul(np.matrix([[1,m12,0,0],[0,m22,0,0],[0,0,1,m12],[0,0,0,m22]]),mu_p[p])\n",
    "        \n",
    "        m1 = -(1-np.exp(-delta_t*l))/l**2+delta_t/l\n",
    "        m2 = (1-np.exp(-delta_t*l))/l\n",
    "#         import pdb;pdb.set_trace()\n",
    "        m_delta_t = m_delta_t+ np.matrix([m1, m2, m1, m2])*mu_w*M_z1 + mean_Z\n",
    "\n",
    "        mu_n_prev_n = m_delta_t\n",
    "        P_n_prev_n = F_delta_t*P_p[p]*F_delta_t.T + S_delta_t\n",
    "        y_hat_n_prev_n = mu_n_prev_n\n",
    "        sigma_n_prev_n = P_n_prev_n + np.identity(4)*noise_sig**2\n",
    "        K = P_n_prev_n*np.linalg.inv(sigma_n_prev_n)\n",
    "        mu_n_n = mu_n_prev_n+K*(y_n-y_hat_n_prev_n)\n",
    "        P_n_n = (np.identity(4) - K)*P_n_prev_n\n",
    "        \n",
    "        mu_p_nextn.append(mu_n_n)\n",
    "        P_p_nextn.append(P_n_n)\n",
    "\n",
    "        log_w_p_nextn = log_weight_p[p]+np.log(stats.multivariate_normal(np.array(mu_n_n.T)[0], P_n_n).pdf(np.array(y_n.T)[0]))\n",
    "#         import pdb;pdb.set_trace()\n",
    "        log_weights_p_nextn[p] = log_w_p_nextn\n",
    "    \n",
    "    # normalise weights\n",
    "    log_weights_p_nextn = log_weights_p_nextn-np.log(sum(np.exp(log_weights_p_nextn)))\n",
    "    \n",
    "    return log_weights_p_nextn, mu_p_nextn, P_p_nextn"
   ]
  },
  {
   "cell_type": "code",
   "execution_count": 10,
   "metadata": {},
   "outputs": [],
   "source": [
    "l = 0.001\n",
    "# c = 20\n",
    "N = 100\n",
    "delta_t = 1\n",
    "sigma_w = 0.2\n",
    "mu_w = 0.01\n",
    "alpha = 0.3 # 0.6\n",
    "\n",
    "# convert variables\n",
    "C = alpha*2**alpha/(sf.gamma(1-alpha))\n",
    "r = 2 # from generalised shot noise paper, 1.35\n",
    "episilon = 1e-3\n",
    "c = C*episilon**(-alpha)/alpha/delta_t\n",
    "beta = 0.5*r**(1/alpha)\n",
    "\n",
    "# calculate first/second moment of residuals\n",
    "M_z1 = 2**(1-alpha)*r**(1-1/alpha)*C*sf.gamma(1-alpha)*sf.gammainc(1-alpha, 0.5*r**(1/alpha)*episilon)\n",
    "M_z2 = C*sf.gamma(2-alpha)*2**(2-alpha)*r**(1-2/alpha)*sf.gammainc(2-alpha, 0.5*r**(1/alpha)*episilon)"
   ]
  },
  {
   "cell_type": "code",
   "execution_count": 11,
   "metadata": {},
   "outputs": [
    {
     "name": "stderr",
     "output_type": "stream",
     "text": [
      "C:\\Users\\surface\\Anaconda3\\lib\\site-packages\\ipykernel_launcher.py:47: RuntimeWarning: divide by zero encountered in log\n"
     ]
    },
    {
     "name": "stdout",
     "output_type": "stream",
     "text": [
      "0.025687803951403333\n"
     ]
    }
   ],
   "source": [
    "n_mus = []\n",
    "n_Ps = []\n",
    "n_ws = []\n",
    "num_particles = 1\n",
    "for n in range(N):\n",
    "#     print(n)\n",
    "    # initialize x\n",
    "    mu_p = [np.matrix([0,0,0,0]).T]*num_particles\n",
    "    P_p = [np.matrix([[1,0,0,0],[0,1,0,0],[0,0,1,0],[0,0,0,1]])]*num_particles\n",
    "    log_weight_p = np.log(np.ones(num_particles)*(1/num_particles))\n",
    "    y_n = np.matrix(y_ns[n]).T\n",
    "    log_weight_p, mu_p, P_p = single_ite_particle_filtering(y_n, log_weight_p, mu_p, P_p, delta_t,resample = True)\n",
    "    \n",
    "    n_mus.append(mu_p)\n",
    "    n_Ps.append(P_p)\n",
    "    n_ws.append(log_weight_p)\n",
    "\n",
    "n_mus = np.array(n_mus)\n",
    "n_Ps = np.array(n_Ps)\n",
    "n_ws = np.exp(np.array(n_ws))\n",
    "\n",
    "# mean of prediction\n",
    "average = np.zeros((N, 4))\n",
    "for i in range(N):\n",
    "    for d in range(4):\n",
    "        average[i,d]=np.dot(np.array(n_mus[i,:,d,:].T)[0], n_ws[i,:])\n",
    "        \n",
    "\n",
    "error = np.dot(average[:,0]-x_ns[:,0],average[:,0]-x_ns[:,0])\n",
    "print(error)"
   ]
  },
  {
   "cell_type": "code",
   "execution_count": 117,
   "metadata": {},
   "outputs": [
    {
     "data": {
      "text/plain": [
       "<matplotlib.legend.Legend at 0x264563fd888>"
      ]
     },
     "execution_count": 117,
     "metadata": {},
     "output_type": "execute_result"
    },
    {
     "data": {
      "image/png": "[encoded data removed]",
      "text/plain": [
       "<Figure size 432x288 with 1 Axes>"
      ]
     },
     "metadata": {
      "needs_background": "light"
     },
     "output_type": "display_data"
    }
   ],
   "source": [
    "plt.plot(average[:,0], average[:,2])\n",
    "plt.plot(x_ns[:,0], x_ns[:,2])\n",
    "plt.legend(['Tracking', 'True'])\n",
    "# plt.plot(x_ns[:,0], x_ns[:,2])\n",
    "plt.legend(['Tracking', 'True'])"
   ]
  }
 ],
 "metadata": {
  "kernelspec": {
   "display_name": "Python 3",
   "language": "python",
   "name": "python3"
  },
  "language_info": {
   "codemirror_mode": {
    "name": "ipython",
    "version": 3
   },
   "file_extension": ".py",
   "mimetype": "text/x-python",
   "name": "python",
   "nbconvert_exporter": "python",
   "pygments_lexer": "ipython3",
   "version": "3.7.4"
  }
 },
 "nbformat": 4,
 "nbformat_minor": 2
}
