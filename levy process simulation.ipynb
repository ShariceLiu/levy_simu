{
 "cells": [
  {
   "cell_type": "markdown",
   "metadata": {},
   "source": [
    "## Inverse Gaussian distribution\n",
    "The inverse gaussian $\\mathcal{\\mu, \\lambda}$ has an explicit density\n",
    "\n",
    "$p(x) = \\sqrt{\\frac{\\lambda}{2 \\pi x^3}} e^{-\\frac{\\lambda (x-\\mu)^2}{2 \\mu^2 x}} \\mathcal{I}_{x > 0}$\n",
    "\n",
    "Its subordinator $Y_t$ has distribution $Y_t | Y_0 \\tilde{} \\mathcal{IG}(t, \\frac{t^2}{\\kappa})$ where $\\kappa$ is the variance at $t=1$.\n",
    "\n",
    "The normal inverse Gaussian process can be represented as\n",
    "\n",
    "$Z_t = \\theta Y_t +\\sigma W_{Y_t}$\n",
    "\n",
    "where $W$ is a standard Brownian motion and $Y$ is an inverse Gaussian subordinator. It has a distribution $Z_t | Z_0 \\tilde{} \\mathcal{N}(\\theta Y_t, \\sigma^2 Y_t)$."
   ]
  },
  {
   "cell_type": "code",
   "execution_count": 1,
   "metadata": {},
   "outputs": [
    {
     "name": "stderr",
     "output_type": "stream",
     "text": [
      "C:\\Users\\surface\\Anaconda3\\lib\\site-packages\\numpy\\_distributor_init.py:32: UserWarning: loaded more than 1 DLL from .libs:\n",
      "C:\\Users\\surface\\Anaconda3\\lib\\site-packages\\numpy\\.libs\\libopenblas.TXA6YQSD3GCQQC22GEQ54J2UDCXDXHWN.gfortran-win_amd64.dll\n",
      "C:\\Users\\surface\\Anaconda3\\lib\\site-packages\\numpy\\.libs\\libopenblas.XWYDX2IKJW2NMTWSFYNGFUWKQU3LYTCZ.gfortran-win_amd64.dll\n",
      "  stacklevel=1)\n"
     ]
    }
   ],
   "source": [
    "import numpy as np\n",
    "import matplotlib.pyplot as plt\n",
    "from scipy.stats import norm"
   ]
  },
  {
   "cell_type": "code",
   "execution_count": 2,
   "metadata": {},
   "outputs": [],
   "source": [
    "def inverse_gaussian(mu, l):\n",
    "    N = np.random.normal()\n",
    "    U = np.random.uniform()\n",
    "    Y = N**2\n",
    "    X1 = mu + mu**2*Y/2/l - mu/(2*l)*np.sqrt(4*mu*l*Y + mu**2*Y**2)\n",
    "    \n",
    "    if U>mu/(X1+mu):\n",
    "        return mu**2/X1\n",
    "    else:\n",
    "        return X1"
   ]
  },
  {
   "cell_type": "code",
   "execution_count": 3,
   "metadata": {},
   "outputs": [],
   "source": [
    "def normal_inverse_gaussian(N, T, k, sigma, theta, x0 = 0):\n",
    "    x_ns = np.zeros(N)\n",
    "    t_ns = np.zeros(N)\n",
    "    \n",
    "    dt = T/N\n",
    "    x = x0\n",
    "    for n in range(N):\n",
    "        N_n = np.random.normal()\n",
    "        dS_n = inverse_gaussian(mu = dt, l = dt**2/k)\n",
    "        dX_n = sigma*N_n*np.sqrt(dS_n) + theta*dS_n\n",
    "        \n",
    "        x_n = x+dX_n\n",
    "        x_ns[n] = x_n\n",
    "        t_ns[n] = n*dt\n",
    "        \n",
    "        x=x_n\n",
    "    \n",
    "    if N == 1:\n",
    "        return x_ns[0]\n",
    "    else:\n",
    "        return x_ns, t_ns\n",
    "        "
   ]
  },
  {
   "cell_type": "code",
   "execution_count": 4,
   "metadata": {},
   "outputs": [],
   "source": [
    "def f_episilon(x, alpha, episilon, kappa):\n",
    "    if x<episilon:\n",
    "        return 0\n",
    "    else:\n",
    "        return alpha*episilon**(alpha)/(x**(alpha+1))*(1/np.sqrt(2*np.pi*kappa))\n",
    "def ro(x, kappa):\n",
    "    return np.exp(-x/2/kappa)/(np.sqrt(2*np.pi*kappa)*x**1.5)\n",
    "\n",
    "def normal_IG_by_CP(N, episilon, T, l, kappa, theta, sigma):\n",
    "    # Return N jump sizes and N jump times\n",
    "    # l: lambda, jump intensity (jump size > episilon), \n",
    "    # episilon: minimum jump size considered, \n",
    "    # kappa: variance of IG process at T = 1\n",
    "    \n",
    "    # N = np.random.poisson(l*T) # number of jumps\n",
    "    U_N = np.random.uniform(high = T, size = N) # N times of jumps\n",
    "    Y_N = np.zeros(N)\n",
    "    \n",
    "    for n in range(N):\n",
    "        # nth jump size\n",
    "        V = 2.0\n",
    "        T = 1.0\n",
    "        B = np.random.uniform()\n",
    "\n",
    "        while V*T>1:\n",
    "            W = np.random.uniform()\n",
    "            V = np.random.uniform()\n",
    "            X = episilon*W**(-1/0.5)\n",
    "                  \n",
    "            denominator = 0.5*ro(X, kappa)\n",
    "            \n",
    "            if X < episilon or denominator == 0.0:\n",
    "                V = 2.0\n",
    "                T = 1.0\n",
    "                continue\n",
    "            else:  \n",
    "                try:\n",
    "                    T = f_episilon(X, 1/2, episilon, kappa)*episilon**(-1/2)*np.exp(-episilon/(2*kappa))/denominator\n",
    "                except:\n",
    "                    V = 2.0\n",
    "                    T = 1.0\n",
    "                    continue\n",
    "        \n",
    "        W_y = np.random.normal(0,X)\n",
    "        Y_N[n] = theta*X + sigma*W_y\n",
    "    \n",
    "    return Y_N, U_N"
   ]
  },
  {
   "cell_type": "code",
   "execution_count": 153,
   "metadata": {},
   "outputs": [
    {
     "data": {
      "text/plain": [
       "101"
      ]
     },
     "execution_count": 153,
     "metadata": {},
     "output_type": "execute_result"
    }
   ],
   "source": [
    "len(U_N)"
   ]
  },
  {
   "cell_type": "code",
   "execution_count": 8,
   "metadata": {},
   "outputs": [
    {
     "data": {
      "text/plain": [
       "[<matplotlib.lines.Line2D at 0x21cb0f54cc8>]"
      ]
     },
     "execution_count": 8,
     "metadata": {},
     "output_type": "execute_result"
    },
    {
     "data": {
      "image/png": "[encoded data removed]",
      "text/plain": [
       "<Figure size 432x288 with 1 Axes>"
      ]
     },
     "metadata": {
      "needs_background": "light"
     },
     "output_type": "display_data"
    }
   ],
   "source": [
    "def trajectory_normal_IG_by_CP(N, episilon, T, l_e, kappa, theta, sigma):\n",
    "    Y_N, U_N = normal_IG_by_CP(N, episilon, T, l_e, kappa, theta, sigma)\n",
    "    t_ns = sorted(U_N)\n",
    "    x_ns = np.zeros(N)\n",
    "    for i in range(len(U_N)):\n",
    "        t = t_ns[i]\n",
    "        x_ns[i] = sum([y for y,u in zip(Y_N,U_N) if u<t])\n",
    "    return t_ns, x_ns\n",
    "\n",
    "t_ns, x_ns = trajectory_normal_IG_by_CP(N, episilon, T, l_e, kappa, theta, sigma)\n",
    "plt.plot(t_ns, x_ns)"
   ]
  },
  {
   "cell_type": "code",
   "execution_count": 203,
   "metadata": {},
   "outputs": [
    {
     "data": {
      "text/plain": [
       "[<matplotlib.lines.Line2D at 0x2d389520648>]"
      ]
     },
     "execution_count": 203,
     "metadata": {},
     "output_type": "execute_result"
    },
    {
     "data": {
      "image/png": "[encoded data removed]",
      "text/plain": [
       "<Figure size 432x288 with 1 Axes>"
      ]
     },
     "metadata": {
      "needs_background": "light"
     },
     "output_type": "display_data"
    }
   ],
   "source": [
    "x_ns, t_ns = normal_inverse_gaussian(N = N, T = 1, k = 0.6, sigma = 0.5, theta = 0.4)\n",
    "\n",
    "plt.plot(t_ns, x_ns)"
   ]
  },
  {
   "cell_type": "markdown",
   "metadata": {},
   "source": [
    "## Estimate expectation\n",
    "Consider 1D SDE\n",
    "\n",
    "$dX_t = \\sin (a X_t) dZ_t$\n",
    "\n",
    "The solution of the corresponding deterministic ODE\n",
    "\n",
    "$dX_t = \\sin (a X_t) dt,$ $X_0 = x$\n",
    "\n",
    "is given explicitly by\n",
    "\n",
    "$X_t = \\theta(t;x) = \\frac{1}{a} \\arccos \\frac{1+\\cos (ax) -e^{2at}(1-\\cos(ax))}{1+cos(ax)+e^{2at}(1-\\cos(ax))}$\n",
    "\n",
    "We want to compute the Monte Carlo estimator of $\\mathbb{E}[f(X_1)]$ with\n",
    "\n",
    "$f(x) = 2-2 \\cos(x-X_0)$\n",
    "### Euler\n",
    "First we compute it by Euler"
   ]
  },
  {
   "cell_type": "code",
   "execution_count": 6,
   "metadata": {},
   "outputs": [],
   "source": [
    "def theta_x_t(x, t, a):\n",
    "    numerator = 1+np.cos(a*x)-np.exp(2*a*t)*(1-np.cos(a*x))\n",
    "    denominator = 1+np.cos(a*x)+np.exp(2*a*t)*(1-np.cos(a*x))\n",
    "    \n",
    "#     return 2*np.pi/a - np.arccos(numerator/denominator)/a\n",
    "    \n",
    "    # deal with periodicity\n",
    "    n = int(a*x//np.pi)\n",
    "\n",
    "    if n%2 == 0:\n",
    "        return np.arccos(numerator/denominator)/a+n*np.pi/a\n",
    "    else:\n",
    "        return (n+1)*np.pi/a - np.arccos(numerator/denominator)/a\n",
    "\n",
    "def h(x, a):\n",
    "    return np.sin(a*x)\n",
    "def h_dash(x, a):\n",
    "    return a*np.cos(a*x)"
   ]
  },
  {
   "cell_type": "code",
   "execution_count": 5,
   "metadata": {},
   "outputs": [],
   "source": [
    "# compute useful constants\n",
    "kappa = 0.6\n",
    "theta = 0.4\n",
    "sigma = 0.5\n",
    "T = 1\n",
    "a = 5\n",
    "\n",
    "episilon = 1e-2\n",
    "l_e = np.sqrt(2/(np.pi*kappa*episilon))*np.exp(-episilon/(2*kappa), dtype = np.float64)-2/kappa*norm.cdf(-np.sqrt(episilon/kappa))\n",
    "r_e = theta - 2*theta*norm.cdf(-np.sqrt(episilon/kappa))\n",
    "sigma_e2 = (sigma**2+kappa*theta**2)*(1-2*norm.cdf(-np.sqrt(episilon/kappa, dtype = np.float64)))\\\n",
    "            -theta**2*np.sqrt(2*kappa*episilon, dtype = np.float64)/np.sqrt(np.pi)*np.exp(-episilon/(2*kappa), dtype = np.float64)\n",
    "sigma_e = np.sqrt(sigma_e2)\n",
    "\n",
    "N = int(l_e) # discretization point = number of jumps"
   ]
  },
  {
   "cell_type": "code",
   "execution_count": 439,
   "metadata": {},
   "outputs": [
    {
     "data": {
      "text/plain": [
       "8"
      ]
     },
     "execution_count": 439,
     "metadata": {},
     "output_type": "execute_result"
    }
   ],
   "source": [
    "N"
   ]
  },
  {
   "cell_type": "code",
   "execution_count": 444,
   "metadata": {},
   "outputs": [
    {
     "name": "stdout",
     "output_type": "stream",
     "text": [
      "0.18440911672147287\n"
     ]
    },
    {
     "data": {
      "text/plain": [
       "[<matplotlib.lines.Line2D at 0x2d39570ba48>]"
      ]
     },
     "execution_count": 444,
     "metadata": {},
     "output_type": "execute_result"
    },
    {
     "data": {
      "image/png": "[encoded data removed]",
      "text/plain": [
       "<Figure size 432x288 with 1 Axes>"
      ]
     },
     "metadata": {
      "needs_background": "light"
     },
     "output_type": "display_data"
    }
   ],
   "source": [
    "# Estimate expectation using monte carlo\n",
    "M = int(1e5) # number of trajectory\n",
    "sum_M = 0\n",
    "\n",
    "for m in range(M):\n",
    "    z_ns, _ = normal_inverse_gaussian(N = N, T = 1, k = 0.6, sigma = 0.5, theta = 0.4)\n",
    "#     z_ns, _ = trajectory_normal_IG_by_CP(N, episilon, T, l_e, kappa, theta, sigma)\n",
    "    z = 0\n",
    "    x0 = 1\n",
    "    x = 1\n",
    "    \n",
    "    x_ns = []\n",
    "    for n in range(N):\n",
    "        z_n = z_ns[n]\n",
    "        dz = z_n - z\n",
    "        \n",
    "        z = z_n\n",
    "        \n",
    "        dx = np.sin(a*x)*dz\n",
    "        x += dx\n",
    "        x_ns.append(x)\n",
    "    \n",
    "    fx = 2*(1-np.cos(x-x0))\n",
    "    sum_M += fx\n",
    "    \n",
    "exp = sum_M/M\n",
    "print(exp)\n",
    "plt.plot(x_ns)"
   ]
  },
  {
   "cell_type": "markdown",
   "metadata": {},
   "source": [
    "Now we compute using section 3 method"
   ]
  },
  {
   "cell_type": "code",
   "execution_count": 47,
   "metadata": {},
   "outputs": [],
   "source": [
    "import warnings\n",
    "warnings.simplefilter('error') # prevent overflow/divide by zero warning"
   ]
  },
  {
   "cell_type": "code",
   "execution_count": 443,
   "metadata": {},
   "outputs": [
    {
     "name": "stdout",
     "output_type": "stream",
     "text": [
      "0.1534283531768497\n"
     ]
    },
    {
     "data": {
      "text/plain": [
       "[<matplotlib.lines.Line2D at 0x2d3956b6288>]"
      ]
     },
     "execution_count": 443,
     "metadata": {},
     "output_type": "execute_result"
    },
    {
     "data": {
      "image/png": "[encoded data removed]",
      "text/plain": [
       "<Figure size 432x288 with 1 Axes>"
      ]
     },
     "metadata": {
      "needs_background": "light"
     },
     "output_type": "display_data"
    }
   ],
   "source": [
    "M = int(1e5)\n",
    "sum_M = 0\n",
    "for m in range(M):\n",
    "    # find all jump sizes and jump times\n",
    "    Y_N, U_N = normal_IG_by_CP(N, episilon, T, l_e, kappa, theta, sigma)\n",
    "    # sort u and y according to time\n",
    "    Y_N = [y for y, u in sorted(zip(Y_N, U_N), key=lambda pair: pair[1])]\n",
    "    U_N.sort()\n",
    "    \n",
    "    t_ns = []\n",
    "    x_ns = []\n",
    "    x_minus_ns = []\n",
    "    \n",
    "    x0=1\n",
    "    u0=0\n",
    "\n",
    "    for u, y in zip(U_N, Y_N):\n",
    "        # brownian motion between u_n and u_(n+1)\n",
    "        du = u-u0\n",
    "        dW = np.random.normal(0,du)\n",
    "        t = r_e*du+sigma_e*dW-0.5*h_dash(x0,a)*sigma_e**2*du\n",
    "        \n",
    "        x_n_minus =theta_x_t(x0, t, a)\n",
    "        x_n = x_n_minus + h(x_n_minus, a)*y\n",
    "#         x_n = x0 + h(x0, a)*y\n",
    "#         x_n_minus = theta_x_t(x_n, t, a) \n",
    "        \n",
    "        x_minus_ns.append(x_n_minus)\n",
    "        x_ns.append(x_n)\n",
    "        t_ns.append(u)\n",
    "        \n",
    "        # reset x for next iteration\n",
    "        x0 = x_n\n",
    "        u0 = u\n",
    "\n",
    "    fx = 2*(1-np.cos(x_n-1))\n",
    "    sum_M+=fx\n",
    "    \n",
    "exp = sum_M/M\n",
    "print(exp)\n",
    "#plt.plot(t_ns,x_minus_ns)\n",
    "plt.plot(t_ns, x_ns)\n"
   ]
  }
 ],
 "metadata": {
  "kernelspec": {
   "display_name": "Python 3",
   "language": "python",
   "name": "python3"
  },
  "language_info": {
   "codemirror_mode": {
    "name": "ipython",
    "version": 3
   },
   "file_extension": ".py",
   "mimetype": "text/x-python",
   "name": "python",
   "nbconvert_exporter": "python",
   "pygments_lexer": "ipython3",
   "version": "3.7.4"
  }
 },
 "nbformat": 4,
 "nbformat_minor": 2
}
